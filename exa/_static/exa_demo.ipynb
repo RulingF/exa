{
 "cells": [
  {
   "cell_type": "markdown",
   "metadata": {},
   "source": [
    "### Welcome to exa! Let's get started"
   ]
  },
  {
   "cell_type": "code",
   "execution_count": null,
   "metadata": {
    "collapsed": false
   },
   "outputs": [],
   "source": [
    "import pandas as pd\n",
    "import numpy as np\n",
    "import exa"
   ]
  },
  {
   "cell_type": "markdown",
   "metadata": {},
   "source": [
    "### You might be familiar with pandas"
   ]
  },
  {
   "cell_type": "code",
   "execution_count": null,
   "metadata": {
    "collapsed": false
   },
   "outputs": [],
   "source": [
    "x = np.linspace(0, 10, 11)\n",
    "y = np.random.rand(11)\n",
    "df1 = pd.DataFrame.from_dict({'x': x, 'y': y})\n",
    "df1.head()"
   ]
  },
  {
   "cell_type": "markdown",
   "metadata": {},
   "source": [
    "### DataFrames are great! Usually you can find a way to represent your data in a single dataframe"
   ]
  },
  {
   "cell_type": "code",
   "execution_count": null,
   "metadata": {
    "collapsed": false
   },
   "outputs": [],
   "source": [
    "df1 = pd.DataFrame.from_dict({'x': x, 'y': y})\n",
    "b = pd.DataFrame(np.random.rand(11, 3))\n",
    "b.columns = ['zi', 'zj', 'zk']\n",
    "pd.concat([df1, b], axis=1).head()"
   ]
  },
  {
   "cell_type": "markdown",
   "metadata": {},
   "source": [
    "### Sometimes data doesn't fit nicely into a single dataframe"
   ]
  },
  {
   "cell_type": "code",
   "execution_count": null,
   "metadata": {
    "collapsed": false
   },
   "outputs": [],
   "source": [
    "array_params = pd.DataFrame.from_dict({'ox': [-3.0], 'oy': [-3.0], \n",
    "                                       'nx': [15],   'ny': [15],\n",
    "                                      'dxi': [0.4], 'dyj': [0.4]})\n",
    "array_values = pd.DataFrame.from_dict({'f1': (np.random.rand(15 * 15)),\n",
    "                                       'f2': (np.random.rand(15 * 15))})\n",
    "print(array_params)\n",
    "array_values.head()"
   ]
  },
  {
   "cell_type": "raw",
   "metadata": {},
   "source": [
    "array_params stores the data to generate (x, y) coordinates\n",
    "array_values stores the data of some functions f1(x, y), f2(x, y) "
   ]
  },
  {
   "cell_type": "markdown",
   "metadata": {},
   "source": [
    "### The exa Container links dataframes together with minimal effort"
   ]
  },
  {
   "cell_type": "code",
   "execution_count": null,
   "metadata": {
    "collapsed": true
   },
   "outputs": [],
   "source": [
    "class Param(exa.DataFrame):\n",
    "    _indices = ['param_index'] # Set as the dataframe's index\n",
    "class Value(exa.DataFrame):\n",
    "    _columns = ['param_index'] # Set as a REQUIRED column in the dataframe's construction\n",
    "    "
   ]
  },
  {
   "cell_type": "code",
   "execution_count": null,
   "metadata": {
    "collapsed": false
   },
   "outputs": [],
   "source": [
    "array_params.index.name = 'param_index'\n",
    "array_values['param_index'] = 0\n",
    "t = exa.Container(params=Param(array_params), values=Value(array_values))"
   ]
  },
  {
   "cell_type": "markdown",
   "metadata": {},
   "source": [
    "### The network() method shows you a network graph of the relationships in your data"
   ]
  },
  {
   "cell_type": "code",
   "execution_count": null,
   "metadata": {
    "collapsed": false
   },
   "outputs": [],
   "source": [
    "t.network()"
   ]
  },
  {
   "cell_type": "markdown",
   "metadata": {},
   "source": [
    "### There are idx-col and col-col relationships, as well as other class attributes\n",
    "\n",
    "#### Categories are efficient if your data has a small number of possible values but normally require special attention\n",
    "#### with the _categories attribute, they require no special attention"
   ]
  },
  {
   "cell_type": "code",
   "execution_count": null,
   "metadata": {
    "collapsed": true
   },
   "outputs": [],
   "source": [
    "class CatDF(exa.DataFrame):\n",
    "    _categories = {'cat1': str, 'cat2': np.int64}"
   ]
  },
  {
   "cell_type": "code",
   "execution_count": null,
   "metadata": {
    "collapsed": false
   },
   "outputs": [],
   "source": [
    "# Note that the pandas API remains intact\n",
    "c = CatDF.from_dict({'cat1': ['foo'] * 30 + ['bar'] * 40, 'cat2': [0] * 18 + [1] * 13 + [2] * 39})\n",
    "print(c.dtypes)\n",
    "c.head()"
   ]
  },
  {
   "cell_type": "markdown",
   "metadata": {},
   "source": [
    "### There are attributes for _groupbys, _traits, _precision allowing for automatic passing to JS widgets"
   ]
  },
  {
   "cell_type": "code",
   "execution_count": null,
   "metadata": {
    "collapsed": true
   },
   "outputs": [],
   "source": [
    "class TraitDF(exa.DataFrame):\n",
    "    _traits = ['f1', 'f2']\n",
    "    _precision = {'f1': 8, 'f2': 3}"
   ]
  },
  {
   "cell_type": "code",
   "execution_count": null,
   "metadata": {
    "collapsed": false
   },
   "outputs": [],
   "source": [
    "tr = exa.Container(values=TraitDF(array_values))\n",
    "tr._update_traits()"
   ]
  },
  {
   "cell_type": "code",
   "execution_count": null,
   "metadata": {
    "collapsed": false
   },
   "outputs": [],
   "source": [
    "tr._widget.traitdf_f2"
   ]
  },
  {
   "cell_type": "code",
   "execution_count": null,
   "metadata": {
    "collapsed": true
   },
   "outputs": [],
   "source": [
    "class GroupDF(exa.DataFrame):\n",
    "    _columns = ['f1', 'f2']\n",
    "    _traits = ['f1', 'f2']\n",
    "    _precision = {'f1': 2, 'f2': 2}\n",
    "    _groupbys = ['grp']"
   ]
  },
  {
   "cell_type": "code",
   "execution_count": null,
   "metadata": {
    "collapsed": false
   },
   "outputs": [],
   "source": []
  },
  {
   "cell_type": "code",
   "execution_count": null,
   "metadata": {
    "collapsed": false
   },
   "outputs": [],
   "source": [
    "array_values['grp'] = np.repeat(range(15), 15)\n",
    "gr = exa.Container(values=GroupDF(array_values))\n",
    "gr._update_traits()"
   ]
  },
  {
   "cell_type": "code",
   "execution_count": null,
   "metadata": {
    "collapsed": false
   },
   "outputs": [],
   "source": [
    "gr._widget.groupdf_f2"
   ]
  },
  {
   "cell_type": "markdown",
   "metadata": {},
   "source": [
    "### Trait data is passed to JS for viewing in a widget with a rather capable app utilizing Three.JS and WebGL"
   ]
  },
  {
   "cell_type": "code",
   "execution_count": null,
   "metadata": {
    "collapsed": false
   },
   "outputs": [],
   "source": [
    "exa.Container()"
   ]
  },
  {
   "cell_type": "markdown",
   "metadata": {},
   "source": [
    "### The real power is in crafting a container specific to the needs of a data set"
   ]
  },
  {
   "cell_type": "markdown",
   "metadata": {
    "collapsed": true
   },
   "source": [
    "### There is also an Editor class that makes repetitive file I/O tasks simpler"
   ]
  },
  {
   "cell_type": "code",
   "execution_count": 59,
   "metadata": {
    "collapsed": false
   },
   "outputs": [
    {
     "data": {
      "text/plain": [
       "0: a string"
      ]
     },
     "execution_count": 59,
     "metadata": {},
     "output_type": "execute_result"
    }
   ],
   "source": [
    "s = exa.Editor('a string')\n",
    "s"
   ]
  },
  {
   "cell_type": "code",
   "execution_count": null,
   "metadata": {
    "collapsed": true
   },
   "outputs": [],
   "source": []
  },
  {
   "cell_type": "code",
   "execution_count": null,
   "metadata": {
    "collapsed": true
   },
   "outputs": [],
   "source": []
  },
  {
   "cell_type": "code",
   "execution_count": null,
   "metadata": {
    "collapsed": true
   },
   "outputs": [],
   "source": []
  }
 ],
 "metadata": {
  "kernelspec": {
   "display_name": "Python 3",
   "language": "python",
   "name": "python3"
  },
  "language_info": {
   "codemirror_mode": {
    "name": "ipython",
    "version": 3
   },
   "file_extension": ".py",
   "mimetype": "text/x-python",
   "name": "python",
   "nbconvert_exporter": "python",
   "pygments_lexer": "ipython3",
   "version": "3.5.1"
  }
 },
 "nbformat": 4,
 "nbformat_minor": 0
}
