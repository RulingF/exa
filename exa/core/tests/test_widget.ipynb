{
 "cells": [
  {
   "cell_type": "code",
   "execution_count": null,
   "metadata": {
    "collapsed": true
   },
   "outputs": [],
   "source": [
    "from exa.core.tests import test_widget\n",
    "w = test_widget.TestMSGWidget()"
   ]
  },
  {
   "cell_type": "code",
   "execution_count": null,
   "metadata": {
    "collapsed": true
   },
   "outputs": [],
   "source": [
    "#from time import sleep\n",
    "#sleep(5)\n",
    "#from exa.core.tests import test_widget\n",
    "#results = []\n",
    "#w = test_widget.TestDOMWidget()\n",
    "#w"
   ]
  },
  {
   "cell_type": "code",
   "execution_count": null,
   "metadata": {
    "collapsed": true
   },
   "outputs": [],
   "source": [
    "#results.append((w.frontend_text, w.backend_counter))\n",
    "#w.frontend_text = \"Hello\"\n",
    "#results.append((w.frontend_text, w.backend_counter))\n",
    "#c = test_widget.TestKontainer()\n",
    "#c"
   ]
  },
  {
   "cell_type": "code",
   "execution_count": null,
   "metadata": {
    "collapsed": true
   },
   "outputs": [],
   "source": [
    "#results.append((c.frontend_text, c.backend_counter))\n",
    "#c.frontend_text = \"Hello\"\n",
    "#results.append((c.frontend_text, c.backend_counter))\n",
    "#results"
   ]
  },
  {
   "cell_type": "code",
   "execution_count": null,
   "metadata": {
    "collapsed": true
   },
   "outputs": [],
   "source": [
    "#with open(test_widget.tmppath, \"w\") as f:\n",
    "#    f.write(\"\\n\".join([str(item) for item in results]))"
   ]
  }
 ],
 "metadata": {
  "kernelspec": {
   "display_name": "Python 3",
   "language": "python",
   "name": "python3"
  },
  "language_info": {
   "codemirror_mode": {
    "name": "ipython",
    "version": 3
   },
   "file_extension": ".py",
   "mimetype": "text/x-python",
   "name": "python",
   "nbconvert_exporter": "python",
   "pygments_lexer": "ipython3",
   "version": "3.6.1"
  }
 },
 "nbformat": 4,
 "nbformat_minor": 2
}
