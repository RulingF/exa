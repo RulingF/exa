{
 "cells": [
  {
   "cell_type": "code",
   "execution_count": 1,
   "metadata": {},
   "outputs": [
    {
     "name": "stdout",
     "output_type": "stream",
     "text": [
      "<function builder.<locals>.watcher at 0x7f55da9ce598>\n",
      "telephone updated observed\n"
     ]
    },
    {
     "name": "stderr",
     "output_type": "stream",
     "text": [
      "Widget Javascript not detected.  It may not be installed or enabled properly.\n"
     ]
    },
    {
     "data": {
      "application/vnd.jupyter.widget-view+json": {
       "model_id": "56ff6858aa284b9a80cd21f01b955dbf"
      }
     },
     "metadata": {},
     "output_type": "display_data"
    },
    {
     "name": "stdout",
     "output_type": "stream",
     "text": [
      "msg received\n",
      "('Frontend updated', [])\n",
      "{}\n",
      "changing {'name': 'telephone', 'old': 0, 'new': 1, 'owner': <exa.widgets.tests.test_widget.TestMSG object at 0x7f55d4015550>, 'type': 'change'}\n",
      "telephone updated observed\n",
      "msg received\n",
      "('Frontend updated', [])\n",
      "{}\n",
      "changing {'name': 'telephone', 'old': 1, 'new': 2, 'owner': <exa.widgets.tests.test_widget.TestMSG object at 0x7f55d4015550>, 'type': 'change'}\n",
      "telephone updated observed\n",
      "msg received\n",
      "('Frontend updated', [])\n",
      "{}\n",
      "changing {'name': 'telephone', 'old': 2, 'new': 3, 'owner': <exa.widgets.tests.test_widget.TestMSG object at 0x7f55d4015550>, 'type': 'change'}\n",
      "telephone updated observed\n",
      "msg received\n",
      "('Frontend updated', [])\n",
      "{}\n",
      "changing {'name': 'telephone', 'old': 3, 'new': 4, 'owner': <exa.widgets.tests.test_widget.TestMSG object at 0x7f55d4015550>, 'type': 'change'}\n",
      "telephone updated observed\n"
     ]
    }
   ],
   "source": [
    "from time import sleep\n",
    "from exa.widgets.tests import test_widget\n",
    "w = test_widget.TestMSG()\n",
    "w"
   ]
  },
  {
   "cell_type": "code",
   "execution_count": 2,
   "metadata": {
    "collapsed": true
   },
   "outputs": [],
   "source": [
    "w.switch = True"
   ]
  },
  {
   "cell_type": "code",
   "execution_count": 3,
   "metadata": {
    "collapsed": true
   },
   "outputs": [],
   "source": [
    "w.switch = False"
   ]
  },
  {
   "cell_type": "code",
   "execution_count": 4,
   "metadata": {
    "collapsed": true
   },
   "outputs": [],
   "source": [
    "w.switch = True"
   ]
  },
  {
   "cell_type": "code",
   "execution_count": 5,
   "metadata": {
    "collapsed": true
   },
   "outputs": [],
   "source": [
    "w.switch = False"
   ]
  },
  {
   "cell_type": "code",
   "execution_count": 3,
   "metadata": {
    "collapsed": true
   },
   "outputs": [],
   "source": [
    "w.close()"
   ]
  },
  {
   "cell_type": "code",
   "execution_count": null,
   "metadata": {
    "collapsed": true
   },
   "outputs": [],
   "source": []
  },
  {
   "cell_type": "code",
   "execution_count": null,
   "metadata": {
    "collapsed": true
   },
   "outputs": [],
   "source": [
    "#from time import sleep\n",
    "#sleep(5)\n",
    "#from exa.core.tests import test_widget\n",
    "#results = []\n",
    "#w = test_widget.TestDOMWidget()\n",
    "#w"
   ]
  },
  {
   "cell_type": "code",
   "execution_count": null,
   "metadata": {
    "collapsed": true
   },
   "outputs": [],
   "source": [
    "#results.append((w.frontend_text, w.backend_counter))\n",
    "#w.frontend_text = \"Hello\"\n",
    "#results.append((w.frontend_text, w.backend_counter))\n",
    "#c = test_widget.TestKontainer()\n",
    "#c"
   ]
  },
  {
   "cell_type": "code",
   "execution_count": null,
   "metadata": {
    "collapsed": true
   },
   "outputs": [],
   "source": [
    "#results.append((c.frontend_text, c.backend_counter))\n",
    "#c.frontend_text = \"Hello\"\n",
    "#results.append((c.frontend_text, c.backend_counter))\n",
    "#results"
   ]
  },
  {
   "cell_type": "code",
   "execution_count": null,
   "metadata": {
    "collapsed": true
   },
   "outputs": [],
   "source": [
    "#with open(test_widget.tmppath, \"w\") as f:\n",
    "#    f.write(\"\\n\".join([str(item) for item in results]))"
   ]
  }
 ],
 "metadata": {
  "kernelspec": {
   "display_name": "Python 3",
   "language": "python",
   "name": "python3"
  },
  "language_info": {
   "codemirror_mode": {
    "name": "ipython",
    "version": 3
   },
   "file_extension": ".py",
   "mimetype": "text/x-python",
   "name": "python",
   "nbconvert_exporter": "python",
   "pygments_lexer": "ipython3",
   "version": "3.6.1"
  }
 },
 "nbformat": 4,
 "nbformat_minor": 2
}
