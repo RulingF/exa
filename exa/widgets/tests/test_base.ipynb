{
 "cells": [
  {
   "cell_type": "code",
   "execution_count": 1,
   "metadata": {
    "collapsed": true
   },
   "outputs": [],
   "source": [
    "# Imports\n",
    "from IPython.display import display\n",
    "import exa.widgets.tests.test_base"
   ]
  },
  {
   "cell_type": "code",
   "execution_count": 2,
   "metadata": {
    "collapsed": true
   },
   "outputs": [],
   "source": [
    "check0 = str(exa.widgets.tests.test_base.WidgetTest.responded)"
   ]
  },
  {
   "cell_type": "code",
   "execution_count": 3,
   "metadata": {},
   "outputs": [
    {
     "data": {
      "application/vnd.jupyter.widget-view+json": {
       "model_id": "4ed0a8678f1c42058a826631342b3821"
      }
     },
     "metadata": {},
     "output_type": "display_data"
    }
   ],
   "source": [
    "exa.widgets.tests.test_base.WidgetTest()"
   ]
  },
  {
   "cell_type": "code",
   "execution_count": 4,
   "metadata": {
    "collapsed": true
   },
   "outputs": [],
   "source": [
    "check1 = str(exa.widgets.tests.test_base.WidgetTest.responded)"
   ]
  },
  {
   "cell_type": "code",
   "execution_count": 5,
   "metadata": {},
   "outputs": [
    {
     "data": {
      "application/vnd.jupyter.widget-view+json": {
       "model_id": "363a1278d9004aa795847dec6a6ca7ad"
      }
     },
     "metadata": {},
     "output_type": "display_data"
    }
   ],
   "source": [
    "with open(\"test_base.ipynb.output\", \"w\", newline=\"\") as f:\n",
    "    f.write(check0 + \"\\n\" + check1 + \"\\n\")\n",
    "    widget = exa.widgets.tests.test_base.DOMWidgetTest()\n",
    "    display(widget)\n",
    "    f.write(widget.value + \"\\n\")\n",
    "    widget.value = \"test\"\n",
    "    f.write(widget.value + \"\\n\")\n",
    "    f.write(widget._trait_values['value'])"
   ]
  },
  {
   "cell_type": "code",
   "execution_count": 6,
   "metadata": {},
   "outputs": [
    {
     "name": "stdout",
     "output_type": "stream",
     "text": [
      "False\r\n",
      "True\r\n",
      "DOMWidgetTest value\r\n",
      "test\r\n",
      "test"
     ]
    }
   ],
   "source": [
    "!cat test_base.ipynb.output\n"
   ]
  },
  {
   "cell_type": "code",
   "execution_count": null,
   "metadata": {
    "collapsed": true
   },
   "outputs": [],
   "source": []
  }
 ],
 "metadata": {
  "kernelspec": {
   "display_name": "Python 3",
   "language": "python",
   "name": "python3"
  },
  "language_info": {
   "codemirror_mode": {
    "name": "ipython",
    "version": 3
   },
   "file_extension": ".py",
   "mimetype": "text/x-python",
   "name": "python",
   "nbconvert_exporter": "python",
   "pygments_lexer": "ipython3",
   "version": "3.6.2"
  }
 },
 "nbformat": 4,
 "nbformat_minor": 2
}
